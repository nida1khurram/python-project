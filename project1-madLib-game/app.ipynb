{
 "cells": [
  {
   "cell_type": "markdown",
   "metadata": {},
   "source": [
    "Project 1: Mad libs Python Project"
   ]
  },
  {
   "cell_type": "code",
   "execution_count": 2,
   "metadata": {},
   "outputs": [
    {
     "name": "stdout",
     "output_type": "stream",
     "text": [
      " Welcome to the Fairy Tale Generator! \n",
      "Fill in the blanks to create your own fairy tale:\n",
      "\n",
      " Your Fairy Tale: \n",
      "\n",
      "    Once upon a time, a fairy named hoor lived in a golden forest.\n",
      "    One day, hoor met a unicorn who could fly.\n",
      "    Together, they found a magical golden key hidden under a glowing mushroom.\n",
      "    The golden key led them to fairy world, where they discovered a land of endless wonder.\n",
      "    From that day on, hoor and the unicorn ruled fairy world with kindness and magic.\n",
      "    \n"
     ]
    }
   ],
   "source": [
    "def fairy_story():\n",
    "    print(\" Welcome to the Fairy Tale Generator! \")\n",
    "    print(\"Fill in the blanks to create your own fairy tale:\")\n",
    "\n",
    "    # Get user inputs\n",
    "    name = input(\"Enter a fairy name: \")\n",
    "    color = input(\"Enter a magical color: \")\n",
    "    animal = input(\"Enter a forest animal: \")\n",
    "    verb = input(\"Enter a magical action (e.g., sparkle, fly): \")\n",
    "    object = input(\"Enter a magical object: (e.g., golden key, crystal ball)\")\n",
    "    place = input(\"Enter an enchanted place:(e.g., the Moonlit Meadows, fairy world) \")\n",
    "\n",
    "    # Create the story\n",
    "    story = f\"\"\"\n",
    "    Once upon a time, a fairy named {name} lived in a {color} forest.\n",
    "    One day, {name} met a {animal} who could {verb}.\n",
    "    Together, they found a magical {object} hidden under a glowing mushroom.\n",
    "    The {object} led them to {place}, where they discovered a land of endless wonder.\n",
    "    From that day on, {name} and the {animal} ruled {place} with kindness and magic.\n",
    "    \"\"\"\n",
    "\n",
    "    # Print the story\n",
    "    print(\"\\n Your Fairy Tale: \")\n",
    "    print(story)\n",
    "\n",
    "fairy_story()"
   ]
  }
 ],
 "metadata": {
  "kernelspec": {
   "display_name": "python12",
   "language": "python",
   "name": "python3"
  },
  "language_info": {
   "codemirror_mode": {
    "name": "ipython",
    "version": 3
   },
   "file_extension": ".py",
   "mimetype": "text/x-python",
   "name": "python",
   "nbconvert_exporter": "python",
   "pygments_lexer": "ipython3",
   "version": "3.12.0"
  }
 },
 "nbformat": 4,
 "nbformat_minor": 2
}
